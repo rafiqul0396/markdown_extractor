{
 "cells": [
  {
   "cell_type": "code",
   "execution_count": 1,
   "id": "aabe9a5c",
   "metadata": {},
   "outputs": [
    {
     "name": "stdout",
     "output_type": "stream",
     "text": [
      "Defaulting to user installation because normal site-packages is not writeable"
     ]
    },
    {
     "name": "stderr",
     "output_type": "stream",
     "text": [
      "\n",
      "[notice] A new release of pip is available: 24.3.1 -> 25.1.1\n",
      "[notice] To update, run: C:\\Python313\\python.exe -m pip install --upgrade pip\n"
     ]
    },
    {
     "name": "stdout",
     "output_type": "stream",
     "text": [
      "\n",
      "Requirement already satisfied: markdown-analyzer-lib in c:\\users\\rafiqul.islam\\appdata\\roaming\\python\\python313\\site-packages (0.1.0)\n",
      "Requirement already satisfied: requests in c:\\users\\rafiqul.islam\\appdata\\roaming\\python\\python313\\site-packages (from markdown-analyzer-lib) (2.32.3)\n",
      "Requirement already satisfied: beautifulsoup4 in c:\\users\\rafiqul.islam\\appdata\\roaming\\python\\python313\\site-packages (from markdown-analyzer-lib) (4.13.4)\n",
      "Requirement already satisfied: markdownify in c:\\users\\rafiqul.islam\\appdata\\roaming\\python\\python313\\site-packages (from markdown-analyzer-lib) (0.13.1)\n",
      "Requirement already satisfied: soupsieve>1.2 in c:\\users\\rafiqul.islam\\appdata\\roaming\\python\\python313\\site-packages (from beautifulsoup4->markdown-analyzer-lib) (2.7)\n",
      "Requirement already satisfied: typing-extensions>=4.0.0 in c:\\users\\rafiqul.islam\\appdata\\roaming\\python\\python313\\site-packages (from beautifulsoup4->markdown-analyzer-lib) (4.12.2)\n",
      "Requirement already satisfied: six<2,>=1.15 in c:\\users\\rafiqul.islam\\appdata\\roaming\\python\\python313\\site-packages (from markdownify->markdown-analyzer-lib) (1.17.0)\n",
      "Requirement already satisfied: charset-normalizer<4,>=2 in c:\\users\\rafiqul.islam\\appdata\\roaming\\python\\python313\\site-packages (from requests->markdown-analyzer-lib) (3.4.1)\n",
      "Requirement already satisfied: idna<4,>=2.5 in c:\\users\\rafiqul.islam\\appdata\\roaming\\python\\python313\\site-packages (from requests->markdown-analyzer-lib) (3.10)\n",
      "Requirement already satisfied: urllib3<3,>=1.21.1 in c:\\users\\rafiqul.islam\\appdata\\roaming\\python\\python313\\site-packages (from requests->markdown-analyzer-lib) (2.3.0)\n",
      "Requirement already satisfied: certifi>=2017.4.17 in c:\\users\\rafiqul.islam\\appdata\\roaming\\python\\python313\\site-packages (from requests->markdown-analyzer-lib) (2025.1.31)\n"
     ]
    }
   ],
   "source": [
    "!pip install markdown-analyzer-lib"
   ]
  },
  {
   "cell_type": "code",
   "execution_count": 2,
   "id": "bb906f4b",
   "metadata": {},
   "outputs": [
    {
     "ename": "ModuleNotFoundError",
     "evalue": "No module named 'markdown_analyzer_lib'",
     "output_type": "error",
     "traceback": [
      "\u001b[1;31m---------------------------------------------------------------------------\u001b[0m",
      "\u001b[1;31mModuleNotFoundError\u001b[0m                       Traceback (most recent call last)",
      "Cell \u001b[1;32mIn[2], line 1\u001b[0m\n\u001b[1;32m----> 1\u001b[0m \u001b[38;5;28;01mfrom\u001b[39;00m \u001b[38;5;21;01mmarkdown_analyzer_lib\u001b[39;00m \u001b[38;5;28;01mimport\u001b[39;00m MarkdownDocument\n\u001b[0;32m      2\u001b[0m \u001b[38;5;28;01mfrom\u001b[39;00m \u001b[38;5;21;01mmarkdown_analyzer_lib\u001b[39;00m \u001b[38;5;28;01mimport\u001b[39;00m MarkdownAnalyzer\n\u001b[0;32m      3\u001b[0m doc \u001b[38;5;241m=\u001b[39m MarkdownDocument\u001b[38;5;241m.\u001b[39mfrom_file(\u001b[38;5;124m\"\u001b[39m\u001b[38;5;124mC:/Users/rafiqul.islam/Desktop/markdown_extractor/markdown_analyzer_lib_project\u001b[39m\u001b[38;5;124m\\\u001b[39m\u001b[38;5;124mdata/13529199_prapti_haskos.md\u001b[39m\u001b[38;5;124m\"\u001b[39m)\n",
      "\u001b[1;31mModuleNotFoundError\u001b[0m: No module named 'markdown_analyzer_lib'"
     ]
    }
   ],
   "source": [
    "from markdown_analyzer_lib import MarkdownDocument\n",
    "from markdown_analyzer_lib import MarkdownAnalyzer\n",
    "doc = MarkdownDocument.from_file(\"C:/Users/rafiqul.islam/Desktop/markdown_extractor/markdown_analyzer_lib_project\\data/13529199_prapti_haskos.md\")\n"
   ]
  },
  {
   "cell_type": "code",
   "execution_count": 3,
   "id": "8d7f26d2",
   "metadata": {},
   "outputs": [
    {
     "ename": "ModuleNotFoundError",
     "evalue": "No module named 'markdown_analyzer_lib'",
     "output_type": "error",
     "traceback": [
      "\u001b[1;31m---------------------------------------------------------------------------\u001b[0m",
      "\u001b[1;31mModuleNotFoundError\u001b[0m                       Traceback (most recent call last)",
      "Cell \u001b[1;32mIn[3], line 1\u001b[0m\n\u001b[1;32m----> 1\u001b[0m \u001b[38;5;28;01mfrom\u001b[39;00m \u001b[38;5;21;01mmarkdown_analyzer_lib\u001b[39;00m \u001b[38;5;28;01mimport\u001b[39;00m MarkdownDocument\n\u001b[0;32m      3\u001b[0m \u001b[38;5;66;03m# Create a MarkdownDocument object from a file\u001b[39;00m\n\u001b[0;32m      4\u001b[0m \u001b[38;5;28;01mtry\u001b[39;00m:\n",
      "\u001b[1;31mModuleNotFoundError\u001b[0m: No module named 'markdown_analyzer_lib'"
     ]
    }
   ],
   "source": [
    "from markdown_analyzer_lib import MarkdownDocument\n",
    "\n",
    "# Create a MarkdownDocument object from a file\n",
    "try:\n",
    "    doc = MarkdownDocument.from_file(\"C:/Users/rafiqul.islam/Desktop/markdown_extractor/markdown_analyzer_lib_project\\data/13529199_prapti_haskos.md\")\n",
    "except FileNotFoundError:\n",
    "    print(\"Error: The specified file was not found.\")\n",
    "    exit()\n",
    "except Exception as e:\n",
    "    print(f\"An error occurred: {e}\")\n",
    "    exit()\n",
    "\n",
    "# Get a summary of the document\n",
    "# Includes word count, character count, and counts of various elements\n",
    "summary = doc.get_summary()\n",
    "print(\"Document Summary:\")\n",
    "for key, value in summary.items():\n",
    "    print(f\"- {key.replace('_', ' ').capitalize()}: {value}\")\n",
    "\n",
    "# Get all headers\n",
    "headers = doc.get_headers()\n",
    "print(\"\\nHeaders:\")\n",
    "if headers:\n",
    "    for header in headers:\n",
    "        print(f\"- Level {header['level']}: {header['text']} (Line {header['line']})\")\n",
    "else:\n",
    "    print(\"No headers found.\")\n",
    "\n",
    "# Get all paragraphs\n",
    "paragraphs = doc.get_paragraphs()\n",
    "print(\"\\nParagraphs:\")\n",
    "if paragraphs:\n",
    "    for i, para_content in enumerate(paragraphs): # para_content is a string\n",
    "        # Note: get_paragraphs() returns a list of content strings.\n",
    "        # For line numbers, you might need to use get_sequential_elements() or analyze tokens.\n",
    "        print(f\"Para {i+1}: {para_content[:100]}...\") # Print first 100 chars\n",
    "else:\n",
    "    print(\"No paragraphs found.\")\n",
    "\n",
    "# Get all links\n",
    "links_data = doc.get_links() # Returns a dictionary with \"Text Links\" and \"Image Links\" keys\n",
    "print(\"\\nLinks:\")\n",
    "if links_data:\n",
    "    # links_data is a dictionary, e.g., {\"Text Links\": [...], \"Image Links\": [...]}\n",
    "    # Iterate through all link types and then all links of that type\n",
    "    for link_type, link_list in links_data.items():\n",
    "        print(f\"  {link_type}:\")\n",
    "        if link_list:\n",
    "            for link_detail in link_list:\n",
    "                if link_type == \"Text Links\":\n",
    "                    print(f\"  - Text: {link_detail.get('text', 'N/A')}, URL: {link_detail['url']} (Line {link_detail.get('line', 'N/A')})\")\n",
    "                else: # Image Links\n",
    "                    print(f\"  - Alt Text: {link_detail.get('alt_text', 'N/A')}, URL: {link_detail['url']} (Line {link_detail.get('line', 'N/A')})\")\n",
    "        else:\n",
    "            print(\"    No links of this type found.\")\n",
    "else:\n",
    "    print(\"No links found.\")\n",
    "\n",
    "# Get all code blocks\n",
    "code_blocks = doc.get_code_blocks()\n",
    "print(\"\\nCode Blocks:\")\n",
    "if code_blocks:\n",
    "    for i, block in enumerate(code_blocks):\n",
    "        lang = block.get('language', 'N/A')\n",
    "        # Use 'start_line' for line number and 'content' for code text\n",
    "        print(f\"Block {i+1} (Language: {lang}, Line {block.get('start_line', 'N/A')}):\")\n",
    "        code_content = block.get('content', '')\n",
    "        print(code_content[:150] + \"...\" if len(code_content) > 150 else code_content)\n",
    "else:\n",
    "    print(\"No code blocks found.\")"
   ]
  },
  {
   "cell_type": "code",
   "execution_count": null,
   "id": "8153b3f1",
   "metadata": {},
   "outputs": [],
   "source": []
  }
 ],
 "metadata": {
  "kernelspec": {
   "display_name": "Python 3",
   "language": "python",
   "name": "python3"
  },
  "language_info": {
   "codemirror_mode": {
    "name": "ipython",
    "version": 3
   },
   "file_extension": ".py",
   "mimetype": "text/x-python",
   "name": "python",
   "nbconvert_exporter": "python",
   "pygments_lexer": "ipython3",
   "version": "3.11.5"
  }
 },
 "nbformat": 4,
 "nbformat_minor": 5
}
